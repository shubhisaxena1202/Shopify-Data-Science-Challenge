{
  "nbformat": 4,
  "nbformat_minor": 0,
  "metadata": {
    "colab": {
      "name": "Shopify.ipynb",
      "provenance": []
    },
    "kernelspec": {
      "name": "python3",
      "display_name": "Python 3"
    }
  },
  "cells": [
    {
      "cell_type": "code",
      "metadata": {
        "id": "i_obij0XMrWq",
        "colab_type": "code",
        "colab": {}
      },
      "source": [
        "import pandas as pd\n",
        "import datetime as dt\n",
        "import numpy as np"
      ],
      "execution_count": 15,
      "outputs": []
    },
    {
      "cell_type": "code",
      "metadata": {
        "id": "9_rMHzADMwWC",
        "colab_type": "code",
        "colab": {}
      },
      "source": [
        "from google.colab import drive\n",
        "import os"
      ],
      "execution_count": 2,
      "outputs": []
    },
    {
      "cell_type": "code",
      "metadata": {
        "id": "JRZJNzg7NNWu",
        "colab_type": "code",
        "colab": {
          "base_uri": "https://localhost:8080/",
          "height": 121
        },
        "outputId": "1ab15e7b-7adf-4098-cabf-9f202033eef8"
      },
      "source": [
        "drive.mount('/content/gdrive',force_remount=True)"
      ],
      "execution_count": 3,
      "outputs": [
        {
          "output_type": "stream",
          "text": [
            "Go to this URL in a browser: https://accounts.google.com/o/oauth2/auth?client_id=947318989803-6bn6qk8qdgf4n4g3pfee6491hc0brc4i.apps.googleusercontent.com&redirect_uri=urn%3aietf%3awg%3aoauth%3a2.0%3aoob&scope=email%20https%3a%2f%2fwww.googleapis.com%2fauth%2fdocs.test%20https%3a%2f%2fwww.googleapis.com%2fauth%2fdrive%20https%3a%2f%2fwww.googleapis.com%2fauth%2fdrive.photos.readonly%20https%3a%2f%2fwww.googleapis.com%2fauth%2fpeopleapi.readonly&response_type=code\n",
            "\n",
            "Enter your authorization code:\n",
            "··········\n",
            "Mounted at /content/gdrive\n"
          ],
          "name": "stdout"
        }
      ]
    },
    {
      "cell_type": "code",
      "metadata": {
        "id": "nrngTfZgNPdC",
        "colab_type": "code",
        "colab": {}
      },
      "source": [
        "root_dir=\"/content/gdrive/My Drive/Shopify\""
      ],
      "execution_count": 5,
      "outputs": []
    },
    {
      "cell_type": "markdown",
      "metadata": {
        "id": "Gv2fHCQrgg_S",
        "colab_type": "text"
      },
      "source": [
        "## Question 1. AOV Calculation"
      ]
    },
    {
      "cell_type": "code",
      "metadata": {
        "id": "4drNuC4PNWp8",
        "colab_type": "code",
        "colab": {
          "base_uri": "https://localhost:8080/",
          "height": 402
        },
        "outputId": "f77a8f42-f8ff-4bb8-8be8-b0eeb6c4540e"
      },
      "source": [
        "df = pd.read_excel(root_dir+\"/2019 Winter Data Science Intern Challenge Data Set.xlsx\", parse_dates=True)\n",
        "df"
      ],
      "execution_count": 14,
      "outputs": [
        {
          "output_type": "execute_result",
          "data": {
            "text/html": [
              "<div>\n",
              "<style scoped>\n",
              "    .dataframe tbody tr th:only-of-type {\n",
              "        vertical-align: middle;\n",
              "    }\n",
              "\n",
              "    .dataframe tbody tr th {\n",
              "        vertical-align: top;\n",
              "    }\n",
              "\n",
              "    .dataframe thead th {\n",
              "        text-align: right;\n",
              "    }\n",
              "</style>\n",
              "<table border=\"1\" class=\"dataframe\">\n",
              "  <thead>\n",
              "    <tr style=\"text-align: right;\">\n",
              "      <th></th>\n",
              "      <th>order_id</th>\n",
              "      <th>shop_id</th>\n",
              "      <th>user_id</th>\n",
              "      <th>order_amount</th>\n",
              "      <th>total_items</th>\n",
              "      <th>payment_method</th>\n",
              "      <th>created_at</th>\n",
              "    </tr>\n",
              "  </thead>\n",
              "  <tbody>\n",
              "    <tr>\n",
              "      <th>0</th>\n",
              "      <td>1</td>\n",
              "      <td>53</td>\n",
              "      <td>746</td>\n",
              "      <td>224</td>\n",
              "      <td>2</td>\n",
              "      <td>cash</td>\n",
              "      <td>2017-03-13 12:36:56.190</td>\n",
              "    </tr>\n",
              "    <tr>\n",
              "      <th>1</th>\n",
              "      <td>2</td>\n",
              "      <td>92</td>\n",
              "      <td>925</td>\n",
              "      <td>90</td>\n",
              "      <td>1</td>\n",
              "      <td>cash</td>\n",
              "      <td>2017-03-03 17:38:51.999</td>\n",
              "    </tr>\n",
              "    <tr>\n",
              "      <th>2</th>\n",
              "      <td>3</td>\n",
              "      <td>44</td>\n",
              "      <td>861</td>\n",
              "      <td>144</td>\n",
              "      <td>1</td>\n",
              "      <td>cash</td>\n",
              "      <td>2017-03-14 04:23:55.595</td>\n",
              "    </tr>\n",
              "    <tr>\n",
              "      <th>3</th>\n",
              "      <td>4</td>\n",
              "      <td>18</td>\n",
              "      <td>935</td>\n",
              "      <td>156</td>\n",
              "      <td>1</td>\n",
              "      <td>credit_card</td>\n",
              "      <td>2017-03-26 12:43:36.649</td>\n",
              "    </tr>\n",
              "    <tr>\n",
              "      <th>4</th>\n",
              "      <td>5</td>\n",
              "      <td>18</td>\n",
              "      <td>883</td>\n",
              "      <td>156</td>\n",
              "      <td>1</td>\n",
              "      <td>credit_card</td>\n",
              "      <td>2017-03-01 04:35:10.773</td>\n",
              "    </tr>\n",
              "    <tr>\n",
              "      <th>...</th>\n",
              "      <td>...</td>\n",
              "      <td>...</td>\n",
              "      <td>...</td>\n",
              "      <td>...</td>\n",
              "      <td>...</td>\n",
              "      <td>...</td>\n",
              "      <td>...</td>\n",
              "    </tr>\n",
              "    <tr>\n",
              "      <th>4995</th>\n",
              "      <td>4996</td>\n",
              "      <td>73</td>\n",
              "      <td>993</td>\n",
              "      <td>330</td>\n",
              "      <td>2</td>\n",
              "      <td>debit</td>\n",
              "      <td>2017-03-30 13:47:16.597</td>\n",
              "    </tr>\n",
              "    <tr>\n",
              "      <th>4996</th>\n",
              "      <td>4997</td>\n",
              "      <td>48</td>\n",
              "      <td>789</td>\n",
              "      <td>234</td>\n",
              "      <td>2</td>\n",
              "      <td>cash</td>\n",
              "      <td>2017-03-16 20:36:16.389</td>\n",
              "    </tr>\n",
              "    <tr>\n",
              "      <th>4997</th>\n",
              "      <td>4998</td>\n",
              "      <td>56</td>\n",
              "      <td>867</td>\n",
              "      <td>351</td>\n",
              "      <td>3</td>\n",
              "      <td>cash</td>\n",
              "      <td>2017-03-19 05:42:42.228</td>\n",
              "    </tr>\n",
              "    <tr>\n",
              "      <th>4998</th>\n",
              "      <td>4999</td>\n",
              "      <td>60</td>\n",
              "      <td>825</td>\n",
              "      <td>354</td>\n",
              "      <td>2</td>\n",
              "      <td>credit_card</td>\n",
              "      <td>2017-03-16 14:51:18.188</td>\n",
              "    </tr>\n",
              "    <tr>\n",
              "      <th>4999</th>\n",
              "      <td>5000</td>\n",
              "      <td>44</td>\n",
              "      <td>734</td>\n",
              "      <td>288</td>\n",
              "      <td>2</td>\n",
              "      <td>debit</td>\n",
              "      <td>2017-03-18 15:48:18.205</td>\n",
              "    </tr>\n",
              "  </tbody>\n",
              "</table>\n",
              "<p>5000 rows × 7 columns</p>\n",
              "</div>"
            ],
            "text/plain": [
              "      order_id  shop_id  ...  payment_method              created_at\n",
              "0            1       53  ...            cash 2017-03-13 12:36:56.190\n",
              "1            2       92  ...            cash 2017-03-03 17:38:51.999\n",
              "2            3       44  ...            cash 2017-03-14 04:23:55.595\n",
              "3            4       18  ...     credit_card 2017-03-26 12:43:36.649\n",
              "4            5       18  ...     credit_card 2017-03-01 04:35:10.773\n",
              "...        ...      ...  ...             ...                     ...\n",
              "4995      4996       73  ...           debit 2017-03-30 13:47:16.597\n",
              "4996      4997       48  ...            cash 2017-03-16 20:36:16.389\n",
              "4997      4998       56  ...            cash 2017-03-19 05:42:42.228\n",
              "4998      4999       60  ...     credit_card 2017-03-16 14:51:18.188\n",
              "4999      5000       44  ...           debit 2017-03-18 15:48:18.205\n",
              "\n",
              "[5000 rows x 7 columns]"
            ]
          },
          "metadata": {
            "tags": []
          },
          "execution_count": 14
        }
      ]
    },
    {
      "cell_type": "code",
      "metadata": {
        "id": "I5PRH4_TO-w0",
        "colab_type": "code",
        "colab": {
          "base_uri": "https://localhost:8080/",
          "height": 50
        },
        "outputId": "991ed826-34ee-4d5c-bb07-8377a4b75fae"
      },
      "source": [
        "df.created_at.dt.year.value_counts()\n",
        "df.created_at.dt.month.value_counts()\n",
        "#The above lines of code confirm the data is for only 1 month that is March 2017 and for 31 days."
      ],
      "execution_count": 21,
      "outputs": [
        {
          "output_type": "execute_result",
          "data": {
            "text/plain": [
              "3    5000\n",
              "Name: created_at, dtype: int64"
            ]
          },
          "metadata": {
            "tags": []
          },
          "execution_count": 21
        }
      ]
    },
    {
      "cell_type": "code",
      "metadata": {
        "id": "1KgiGz-NNlEz",
        "colab_type": "code",
        "colab": {
          "base_uri": "https://localhost:8080/",
          "height": 34
        },
        "outputId": "3af3b533-aca6-436f-c7ac-401f5d6fd8f1"
      },
      "source": [
        "# How the problem statement is calculating AOV :\n",
        "total_revenue = sum(df['order_amount'])\n",
        "total_orders = len(df)\n",
        "AOV = total_revenue/total_orders\n",
        "print(\"Problem statement's calculated AOV : $\",AOV)"
      ],
      "execution_count": 23,
      "outputs": [
        {
          "output_type": "stream",
          "text": [
            "Problem statement's calculated AOV : $ 3145.128\n"
          ],
          "name": "stdout"
        }
      ]
    },
    {
      "cell_type": "markdown",
      "metadata": {
        "id": "H3KBjfStOqkW",
        "colab_type": "text"
      },
      "source": [
        "According to Shopify, \"Average Order value refers to the average amount of money each customer spends per transcation at the store.\"\n",
        "However, Since the AOV was naively calculated, the process doesnt check for a few potential problems like:\n",
        "1. Are there repeated values in the dataset? In other words, is the dataset consisted of only unique transactions and free from error?\n",
        "2. Are there any outliers in the dataset? Is there any specific order, which is having a dominating effect on AoV?\n",
        "3. Is there a huge difference between the maximum value of order amount and minimum value of order amount?\n",
        "\n",
        "The above two questions can be solved with some preprocessing on data."
      ]
    },
    {
      "cell_type": "code",
      "metadata": {
        "id": "KmnY5AbCONBp",
        "colab_type": "code",
        "colab": {
          "base_uri": "https://localhost:8080/",
          "height": 195
        },
        "outputId": "a4e4b8fe-9607-4dc8-877a-ceb11cdaeff2"
      },
      "source": [
        "#how many repeated transactions are there?\n",
        "duplicates = df[df.duplicated(['created_at', 'shop_id','user_id','order_amount','total_items','payment_method'])]\n",
        "duplicates"
      ],
      "execution_count": 25,
      "outputs": [
        {
          "output_type": "execute_result",
          "data": {
            "text/html": [
              "<div>\n",
              "<style scoped>\n",
              "    .dataframe tbody tr th:only-of-type {\n",
              "        vertical-align: middle;\n",
              "    }\n",
              "\n",
              "    .dataframe tbody tr th {\n",
              "        vertical-align: top;\n",
              "    }\n",
              "\n",
              "    .dataframe thead th {\n",
              "        text-align: right;\n",
              "    }\n",
              "</style>\n",
              "<table border=\"1\" class=\"dataframe\">\n",
              "  <thead>\n",
              "    <tr style=\"text-align: right;\">\n",
              "      <th></th>\n",
              "      <th>order_id</th>\n",
              "      <th>shop_id</th>\n",
              "      <th>user_id</th>\n",
              "      <th>order_amount</th>\n",
              "      <th>total_items</th>\n",
              "      <th>payment_method</th>\n",
              "      <th>created_at</th>\n",
              "    </tr>\n",
              "  </thead>\n",
              "  <tbody>\n",
              "    <tr>\n",
              "      <th>2297</th>\n",
              "      <td>2298</td>\n",
              "      <td>42</td>\n",
              "      <td>607</td>\n",
              "      <td>704000</td>\n",
              "      <td>2000</td>\n",
              "      <td>credit_card</td>\n",
              "      <td>2017-03-07 04:00:00</td>\n",
              "    </tr>\n",
              "    <tr>\n",
              "      <th>2969</th>\n",
              "      <td>2970</td>\n",
              "      <td>42</td>\n",
              "      <td>607</td>\n",
              "      <td>704000</td>\n",
              "      <td>2000</td>\n",
              "      <td>credit_card</td>\n",
              "      <td>2017-03-28 04:00:00</td>\n",
              "    </tr>\n",
              "    <tr>\n",
              "      <th>3332</th>\n",
              "      <td>3333</td>\n",
              "      <td>42</td>\n",
              "      <td>607</td>\n",
              "      <td>704000</td>\n",
              "      <td>2000</td>\n",
              "      <td>credit_card</td>\n",
              "      <td>2017-03-24 04:00:00</td>\n",
              "    </tr>\n",
              "    <tr>\n",
              "      <th>4056</th>\n",
              "      <td>4057</td>\n",
              "      <td>42</td>\n",
              "      <td>607</td>\n",
              "      <td>704000</td>\n",
              "      <td>2000</td>\n",
              "      <td>credit_card</td>\n",
              "      <td>2017-03-28 04:00:00</td>\n",
              "    </tr>\n",
              "    <tr>\n",
              "      <th>4646</th>\n",
              "      <td>4647</td>\n",
              "      <td>42</td>\n",
              "      <td>607</td>\n",
              "      <td>704000</td>\n",
              "      <td>2000</td>\n",
              "      <td>credit_card</td>\n",
              "      <td>2017-03-02 04:00:00</td>\n",
              "    </tr>\n",
              "  </tbody>\n",
              "</table>\n",
              "</div>"
            ],
            "text/plain": [
              "      order_id  shop_id  ...  payment_method          created_at\n",
              "2297      2298       42  ...     credit_card 2017-03-07 04:00:00\n",
              "2969      2970       42  ...     credit_card 2017-03-28 04:00:00\n",
              "3332      3333       42  ...     credit_card 2017-03-24 04:00:00\n",
              "4056      4057       42  ...     credit_card 2017-03-28 04:00:00\n",
              "4646      4647       42  ...     credit_card 2017-03-02 04:00:00\n",
              "\n",
              "[5 rows x 7 columns]"
            ]
          },
          "metadata": {
            "tags": []
          },
          "execution_count": 25
        }
      ]
    },
    {
      "cell_type": "markdown",
      "metadata": {
        "id": "Zxe6_KCGT5eh",
        "colab_type": "text"
      },
      "source": [
        "The above line of code, provides answer to the first question. Since there are duplicates in the dataset, just averaging all orders will not help."
      ]
    },
    {
      "cell_type": "code",
      "metadata": {
        "id": "TIVlM95QTY9o",
        "colab_type": "code",
        "colab": {
          "base_uri": "https://localhost:8080/",
          "height": 285
        },
        "outputId": "d1a0bdcd-188d-445d-a75f-174964ed1e0c"
      },
      "source": [
        "# Q2. Outliers in the dataset. We will answer this question using boxplots, a means of visualizing the dataset to identify outliers.\n",
        "import matplotlib.pyplot as plt\n",
        "import seaborn as sns\n",
        "\n",
        "sns.set(style=\"whitegrid\")\n",
        "sns.boxplot(x=df['order_amount'])\n",
        "plt.show()"
      ],
      "execution_count": 40,
      "outputs": [
        {
          "output_type": "display_data",
          "data": {
            "image/png": "[encoded data removed]",
            "text/plain": [
              "<Figure size 432x288 with 1 Axes>"
            ]
          },
          "metadata": {
            "tags": []
          }
        }
      ]
    },
    {
      "cell_type": "markdown",
      "metadata": {
        "id": "N9xYwnhhWkIV",
        "colab_type": "text"
      },
      "source": [
        "Since we can see outliers, we will later detect them and remove them."
      ]
    },
    {
      "cell_type": "code",
      "metadata": {
        "id": "szhpaHTHUjQ-",
        "colab_type": "code",
        "colab": {
          "base_uri": "https://localhost:8080/",
          "height": 34
        },
        "outputId": "781c1724-4926-4020-eb85-c37b88c1e226"
      },
      "source": [
        "# Q3. Is there a huge difference between the minimum and the maximum order_amount?\n",
        "min_amt = min(df['order_amount'])\n",
        "max_amt = max(df['order_amount'])\n",
        "difference = max_amt - min_amt\n",
        "print(\"The difference in amounts is: $\", difference, \"with maximum amount : $\", max_amt, \" and minimum amount : $\", min_amt)"
      ],
      "execution_count": 41,
      "outputs": [
        {
          "output_type": "stream",
          "text": [
            "The difference in amounts is: $ 703910 with maximum amount : $ 704000  and minimum amount : $ 90\n"
          ],
          "name": "stdout"
        }
      ]
    },
    {
      "cell_type": "markdown",
      "metadata": {
        "id": "RCG2HtKaXeOe",
        "colab_type": "text"
      },
      "source": [
        "The above shows that the order amounts are not standardized and they need to be handled before any kind of metric evaluation.\n",
        "\n",
        "Below is the proposed solution to solve for the incorrect metric:\n",
        "1. Since there are a lot of outliers, it would be best to remove them or replace them with the mean. \n",
        "2. Standardize the data with a MinMax Scalar, if you dont want to deal with outliers.\n",
        "3. Address the outlier issue with \"total_items\" since, it is directly related to \"order_amount\""
      ]
    },
    {
      "cell_type": "code",
      "metadata": {
        "id": "hPTaUIkEXbbA",
        "colab_type": "code",
        "colab": {
          "base_uri": "https://localhost:8080/",
          "height": 34
        },
        "outputId": "bd6b7266-169d-4aec-facc-3b9f00b6013a"
      },
      "source": [
        "# Using InterQuartile ranges for outlier detection\n",
        "Q1 = df.order_amount.quantile(0.25)\n",
        "Q3 = df.order_amount.quantile(0.75)\n",
        "IQR = Q3 - Q1\n",
        "print(IQR)"
      ],
      "execution_count": 42,
      "outputs": [
        {
          "output_type": "stream",
          "text": [
            "227.0\n"
          ],
          "name": "stdout"
        }
      ]
    },
    {
      "cell_type": "code",
      "metadata": {
        "id": "2luO-GascqSn",
        "colab_type": "code",
        "colab": {
          "base_uri": "https://localhost:8080/",
          "height": 402
        },
        "outputId": "3b4b11be-1c78-4d92-cd24-30323e78fffc"
      },
      "source": [
        "cleaned = df.loc[(df.order_amount > Q1) & (df.order_amount < Q3)]\n",
        "cleaned"
      ],
      "execution_count": 57,
      "outputs": [
        {
          "output_type": "execute_result",
          "data": {
            "text/html": [
              "<div>\n",
              "<style scoped>\n",
              "    .dataframe tbody tr th:only-of-type {\n",
              "        vertical-align: middle;\n",
              "    }\n",
              "\n",
              "    .dataframe tbody tr th {\n",
              "        vertical-align: top;\n",
              "    }\n",
              "\n",
              "    .dataframe thead th {\n",
              "        text-align: right;\n",
              "    }\n",
              "</style>\n",
              "<table border=\"1\" class=\"dataframe\">\n",
              "  <thead>\n",
              "    <tr style=\"text-align: right;\">\n",
              "      <th></th>\n",
              "      <th>order_id</th>\n",
              "      <th>shop_id</th>\n",
              "      <th>user_id</th>\n",
              "      <th>order_amount</th>\n",
              "      <th>total_items</th>\n",
              "      <th>payment_method</th>\n",
              "      <th>created_at</th>\n",
              "    </tr>\n",
              "  </thead>\n",
              "  <tbody>\n",
              "    <tr>\n",
              "      <th>0</th>\n",
              "      <td>1</td>\n",
              "      <td>53</td>\n",
              "      <td>746</td>\n",
              "      <td>224</td>\n",
              "      <td>2</td>\n",
              "      <td>cash</td>\n",
              "      <td>2017-03-13 12:36:56.190</td>\n",
              "    </tr>\n",
              "    <tr>\n",
              "      <th>7</th>\n",
              "      <td>8</td>\n",
              "      <td>22</td>\n",
              "      <td>761</td>\n",
              "      <td>292</td>\n",
              "      <td>2</td>\n",
              "      <td>cash</td>\n",
              "      <td>2017-03-08 02:05:37.981</td>\n",
              "    </tr>\n",
              "    <tr>\n",
              "      <th>8</th>\n",
              "      <td>9</td>\n",
              "      <td>64</td>\n",
              "      <td>914</td>\n",
              "      <td>266</td>\n",
              "      <td>2</td>\n",
              "      <td>debit</td>\n",
              "      <td>2017-03-17 20:56:50.468</td>\n",
              "    </tr>\n",
              "    <tr>\n",
              "      <th>10</th>\n",
              "      <td>11</td>\n",
              "      <td>66</td>\n",
              "      <td>848</td>\n",
              "      <td>322</td>\n",
              "      <td>2</td>\n",
              "      <td>credit_card</td>\n",
              "      <td>2017-03-26 23:36:39.877</td>\n",
              "    </tr>\n",
              "    <tr>\n",
              "      <th>11</th>\n",
              "      <td>12</td>\n",
              "      <td>40</td>\n",
              "      <td>983</td>\n",
              "      <td>322</td>\n",
              "      <td>2</td>\n",
              "      <td>debit</td>\n",
              "      <td>2017-03-12 17:58:30.356</td>\n",
              "    </tr>\n",
              "    <tr>\n",
              "      <th>...</th>\n",
              "      <td>...</td>\n",
              "      <td>...</td>\n",
              "      <td>...</td>\n",
              "      <td>...</td>\n",
              "      <td>...</td>\n",
              "      <td>...</td>\n",
              "      <td>...</td>\n",
              "    </tr>\n",
              "    <tr>\n",
              "      <th>4995</th>\n",
              "      <td>4996</td>\n",
              "      <td>73</td>\n",
              "      <td>993</td>\n",
              "      <td>330</td>\n",
              "      <td>2</td>\n",
              "      <td>debit</td>\n",
              "      <td>2017-03-30 13:47:16.597</td>\n",
              "    </tr>\n",
              "    <tr>\n",
              "      <th>4996</th>\n",
              "      <td>4997</td>\n",
              "      <td>48</td>\n",
              "      <td>789</td>\n",
              "      <td>234</td>\n",
              "      <td>2</td>\n",
              "      <td>cash</td>\n",
              "      <td>2017-03-16 20:36:16.389</td>\n",
              "    </tr>\n",
              "    <tr>\n",
              "      <th>4997</th>\n",
              "      <td>4998</td>\n",
              "      <td>56</td>\n",
              "      <td>867</td>\n",
              "      <td>351</td>\n",
              "      <td>3</td>\n",
              "      <td>cash</td>\n",
              "      <td>2017-03-19 05:42:42.228</td>\n",
              "    </tr>\n",
              "    <tr>\n",
              "      <th>4998</th>\n",
              "      <td>4999</td>\n",
              "      <td>60</td>\n",
              "      <td>825</td>\n",
              "      <td>354</td>\n",
              "      <td>2</td>\n",
              "      <td>credit_card</td>\n",
              "      <td>2017-03-16 14:51:18.188</td>\n",
              "    </tr>\n",
              "    <tr>\n",
              "      <th>4999</th>\n",
              "      <td>5000</td>\n",
              "      <td>44</td>\n",
              "      <td>734</td>\n",
              "      <td>288</td>\n",
              "      <td>2</td>\n",
              "      <td>debit</td>\n",
              "      <td>2017-03-18 15:48:18.205</td>\n",
              "    </tr>\n",
              "  </tbody>\n",
              "</table>\n",
              "<p>2451 rows × 7 columns</p>\n",
              "</div>"
            ],
            "text/plain": [
              "      order_id  shop_id  ...  payment_method              created_at\n",
              "0            1       53  ...            cash 2017-03-13 12:36:56.190\n",
              "7            8       22  ...            cash 2017-03-08 02:05:37.981\n",
              "8            9       64  ...           debit 2017-03-17 20:56:50.468\n",
              "10          11       66  ...     credit_card 2017-03-26 23:36:39.877\n",
              "11          12       40  ...           debit 2017-03-12 17:58:30.356\n",
              "...        ...      ...  ...             ...                     ...\n",
              "4995      4996       73  ...           debit 2017-03-30 13:47:16.597\n",
              "4996      4997       48  ...            cash 2017-03-16 20:36:16.389\n",
              "4997      4998       56  ...            cash 2017-03-19 05:42:42.228\n",
              "4998      4999       60  ...     credit_card 2017-03-16 14:51:18.188\n",
              "4999      5000       44  ...           debit 2017-03-18 15:48:18.205\n",
              "\n",
              "[2451 rows x 7 columns]"
            ]
          },
          "metadata": {
            "tags": []
          },
          "execution_count": 57
        }
      ]
    },
    {
      "cell_type": "code",
      "metadata": {
        "id": "3u8uvi1eckYO",
        "colab_type": "code",
        "colab": {
          "base_uri": "https://localhost:8080/",
          "height": 34
        },
        "outputId": "0fe6a01b-06e6-4db3-fdee-a00365a7badd"
      },
      "source": [
        "#Now calculating AOV Again for this new dataset\n",
        "total_revenue = sum(cleaned['order_amount'])\n",
        "total_orders = len(cleaned)\n",
        "AOV = total_revenue/total_orders\n",
        "print(\"Corrected AOV : $\",AOV)"
      ],
      "execution_count": 58,
      "outputs": [
        {
          "output_type": "stream",
          "text": [
            "Corrected AOV : $ 275.4128926968584\n"
          ],
          "name": "stdout"
        }
      ]
    },
    {
      "cell_type": "markdown",
      "metadata": {
        "id": "2OAmAZD_exj1",
        "colab_type": "text"
      },
      "source": [
        "The Corrected AOV of **$275.5** makes more sense now and looks affordable.\n"
      ]
    },
    {
      "cell_type": "markdown",
      "metadata": {
        "id": "Xjzv5fV6e8jJ",
        "colab_type": "text"
      },
      "source": [
        "#### However, since we are unaware of the context behind the data, that is there is a possibility that shop_id 42 is a warehouse and the customer it is shipping to is a store, buying such huge amount of sneakers would make sense. Hence another metric can be used here. That is \"Average Basket Value\". \n",
        "\n",
        "#### According to shopify, \" Average Basket Value tells how many items are typically sold per transaction\".\n",
        "**This metric makes more sense, specially if we dont want to deal with the problems of AOV as discussed before.**"
      ]
    },
    {
      "cell_type": "markdown",
      "metadata": {
        "id": "yc_VgfuGgAJh",
        "colab_type": "text"
      },
      "source": [
        "### Average Basket Value"
      ]
    },
    {
      "cell_type": "code",
      "metadata": {
        "id": "rjIA8CMzewMZ",
        "colab_type": "code",
        "colab": {
          "base_uri": "https://localhost:8080/",
          "height": 34
        },
        "outputId": "45e6106a-e767-4747-c48b-40e5c4984557"
      },
      "source": [
        "total_items_sold = sum(df['total_items'])\n",
        "total_transactions = len(df)\n",
        "ABV = total_items_sold/total_transactions\n",
        "print(\"The Average Basket Value is $\", ABV)"
      ],
      "execution_count": 59,
      "outputs": [
        {
          "output_type": "stream",
          "text": [
            "The Average Basket Value is $ 8.7872\n"
          ],
          "name": "stdout"
        }
      ]
    },
    {
      "cell_type": "markdown",
      "metadata": {
        "id": "eU9MWkZ2g2f-",
        "colab_type": "text"
      },
      "source": [
        "## Question 2. SQL"
      ]
    },
    {
      "cell_type": "markdown",
      "metadata": {
        "id": "V6rnFsIog6bw",
        "colab_type": "text"
      },
      "source": [
        "#### Q1. How many orders were shipped by Speedy Express in total?"
      ]
    },
    {
      "cell_type": "code",
      "metadata": {
        "id": "U4Z3UpR8gdJt",
        "colab_type": "code",
        "colab": {}
      },
      "source": [
        "##The following queries are written in MySQL "
      ],
      "execution_count": 60,
      "outputs": []
    },
    {
      "cell_type": "markdown",
      "metadata": {
        "id": "-uFnagjFhVPL",
        "colab_type": "text"
      },
      "source": [
        "    Select Distinct(OrderID)\n",
        "    from Orders \n",
        "    where Orders.ShipperID in \n",
        "    (SELECT ShipperID FROM Shippers \n",
        "    where ShipperName like \"%Speedy Express%\")\n",
        "\n",
        "\n",
        "\n"
      ]
    },
    {
      "cell_type": "markdown",
      "metadata": {
        "id": "v9hYtyXCk0J0",
        "colab_type": "text"
      },
      "source": [
        "**Output:** 54"
      ]
    },
    {
      "cell_type": "markdown",
      "metadata": {
        "id": "3IPL1ndjh13L",
        "colab_type": "text"
      },
      "source": [
        "#### Q2. What is the last name of the employee with the most orders?"
      ]
    },
    {
      "cell_type": "markdown",
      "metadata": {
        "id": "d9uL8kI_h647",
        "colab_type": "text"
      },
      "source": [
        "    Select LastName from Employees \n",
        "    where EmployeeID in \n",
        "    (SELECT EmployeeID \n",
        "    FROM Orders  GROUP BY EmployeeID \n",
        "    HAVING COUNT (EmployeeID)=\n",
        "    (SELECT MAX(ordercount) FROM \n",
        "    (SELECT EmployeeID, COUNT(OrderID) ordercount \n",
        "    FROM orders\n",
        "    GROUP BY EmployeeID)))\n"
      ]
    },
    {
      "cell_type": "markdown",
      "metadata": {
        "id": "-dmRObOslDwI",
        "colab_type": "text"
      },
      "source": [
        "**Output:** Peacock"
      ]
    },
    {
      "cell_type": "markdown",
      "metadata": {
        "id": "0vhDhz9viEbV",
        "colab_type": "text"
      },
      "source": [
        "#### Q3. What product was ordered the most by customers in Germany?"
      ]
    },
    {
      "cell_type": "markdown",
      "metadata": {
        "id": "iBeh8yYpkhsW",
        "colab_type": "text"
      },
      "source": [
        "    Select ProductName from Products where ProductID in \n",
        "      (select ProductID from \n",
        "        (Select ProductID ,Max(ProductCount) as MaxCount from \n",
        "          (Select ProductID, count(ProductID) as ProductCount from OrderDetails where OrderID in \n",
        "            (Select OrderID from Orders where CustomerID in (SELECT CustomerID from Customers where Country like \"%Germany%\")) group by ProductID)))"
      ]
    },
    {
      "cell_type": "markdown",
      "metadata": {
        "id": "Gp11unwPlPGM",
        "colab_type": "text"
      },
      "source": [
        "**Output:**  Gorgonzola Telino"
      ]
    }
  ]
}